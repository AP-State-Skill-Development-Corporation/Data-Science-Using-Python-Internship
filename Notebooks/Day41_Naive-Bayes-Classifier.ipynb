{
 "cells": [
  {
   "cell_type": "markdown",
   "id": "4ff819e3",
   "metadata": {},
   "source": [
    "#### Naive_Bayes_\n",
    "- Based on Bayes theorem for culculating probability and conditional probabilities  \n",
    "P(A|B)=(P(B|A)*P(A))/P(B)   \n",
    "A-->output   \n",
    "B--->features data  \n",
    "- guassian Nb()\n",
    "- Multinomial Nb(target has more than 2 o/p classes)()\n",
    "- bernoulli Nb(target has only 2  o/p classes)\n",
    "- works better for Sentimental analysis,recommended systems"
   ]
  },
  {
   "cell_type": "code",
   "execution_count": null,
   "id": "4118d9b3",
   "metadata": {},
   "outputs": [],
   "source": [
    "#apply load wine dataset to gaussian nb and compare the accauracy\n",
    "#from sklearn.naive_bayes import GuasssianNB"
   ]
  },
  {
   "cell_type": "markdown",
   "id": "32339aba",
   "metadata": {},
   "source": [
    "***Multinomial Naive Bayes Classifier***"
   ]
  },
  {
   "cell_type": "code",
   "execution_count": 1,
   "id": "e2e158c2",
   "metadata": {},
   "outputs": [],
   "source": [
    "import pandas as pd\n",
    "df=pd.read_csv(\"https://raw.githubusercontent.com/AP-State-Skill-Development-Corporation/Data-Science-Using-Python-Internship-EB1/main/Notebooks/amazondataset.csv\")"
   ]
  },
  {
   "cell_type": "code",
   "execution_count": 2,
   "id": "c805c80a",
   "metadata": {},
   "outputs": [
    {
     "data": {
      "text/html": [
       "<div>\n",
       "<style scoped>\n",
       "    .dataframe tbody tr th:only-of-type {\n",
       "        vertical-align: middle;\n",
       "    }\n",
       "\n",
       "    .dataframe tbody tr th {\n",
       "        vertical-align: top;\n",
       "    }\n",
       "\n",
       "    .dataframe thead th {\n",
       "        text-align: right;\n",
       "    }\n",
       "</style>\n",
       "<table border=\"1\" class=\"dataframe\">\n",
       "  <thead>\n",
       "    <tr style=\"text-align: right;\">\n",
       "      <th></th>\n",
       "      <th>uncleanedreview</th>\n",
       "      <th>decision</th>\n",
       "    </tr>\n",
       "  </thead>\n",
       "  <tbody>\n",
       "    <tr>\n",
       "      <th>0</th>\n",
       "      <td>I had the Samsung A600 for awhile which is abs...</td>\n",
       "      <td>positive</td>\n",
       "    </tr>\n",
       "    <tr>\n",
       "      <th>1</th>\n",
       "      <td>Due to a software issue between Nokia and Spri...</td>\n",
       "      <td>positive</td>\n",
       "    </tr>\n",
       "    <tr>\n",
       "      <th>2</th>\n",
       "      <td>This is a great, reliable phone. I also purcha...</td>\n",
       "      <td>positive</td>\n",
       "    </tr>\n",
       "    <tr>\n",
       "      <th>3</th>\n",
       "      <td>I love the phone and all, because I really did...</td>\n",
       "      <td>positive</td>\n",
       "    </tr>\n",
       "    <tr>\n",
       "      <th>4</th>\n",
       "      <td>The phone has been great for every purpose it ...</td>\n",
       "      <td>positive</td>\n",
       "    </tr>\n",
       "  </tbody>\n",
       "</table>\n",
       "</div>"
      ],
      "text/plain": [
       "                                     uncleanedreview  decision\n",
       "0  I had the Samsung A600 for awhile which is abs...  positive\n",
       "1  Due to a software issue between Nokia and Spri...  positive\n",
       "2  This is a great, reliable phone. I also purcha...  positive\n",
       "3  I love the phone and all, because I really did...  positive\n",
       "4  The phone has been great for every purpose it ...  positive"
      ]
     },
     "execution_count": 2,
     "metadata": {},
     "output_type": "execute_result"
    }
   ],
   "source": [
    "df.head()"
   ]
  },
  {
   "cell_type": "code",
   "execution_count": 3,
   "id": "5de5496c",
   "metadata": {},
   "outputs": [
    {
     "data": {
      "text/plain": [
       "positive    57512\n",
       "negative    14410\n",
       "Name: decision, dtype: int64"
      ]
     },
     "execution_count": 3,
     "metadata": {},
     "output_type": "execute_result"
    }
   ],
   "source": [
    "df[\"decision\"].value_counts()"
   ]
  },
  {
   "cell_type": "code",
   "execution_count": 6,
   "id": "71706b54",
   "metadata": {},
   "outputs": [
    {
     "data": {
      "text/plain": [
       "2    This is a great, reliable phone. I also purcha...\n",
       "Name: uncleanedreview, dtype: object"
      ]
     },
     "execution_count": 6,
     "metadata": {},
     "output_type": "execute_result"
    }
   ],
   "source": [
    "a=df.iloc[2:3,0]\n",
    "a"
   ]
  },
  {
   "cell_type": "code",
   "execution_count": 12,
   "id": "c6fb53d6",
   "metadata": {
    "collapsed": true
   },
   "outputs": [
    {
     "name": "stdout",
     "output_type": "stream",
     "text": [
      "['This', 'is', 'a', 'great', ',', 'reliable', 'phone', '.', 'I', 'also', 'purchased', '.']\n"
     ]
    },
    {
     "name": "stderr",
     "output_type": "stream",
     "text": [
      "[nltk_data] Downloading package punkt to\n",
      "[nltk_data]     C:\\Users\\HP\\AppData\\Roaming\\nltk_data...\n",
      "[nltk_data]   Package punkt is already up-to-date!\n"
     ]
    }
   ],
   "source": [
    "import nltk\n",
    "nltk.download('punkt')\n",
    "from nltk import word_tokenize\n",
    "data=\"This is a great, reliable phone. I also purchased.\"\n",
    "print(word_tokenize(data))  #to convert to words"
   ]
  },
  {
   "cell_type": "code",
   "execution_count": 15,
   "id": "82dd724d",
   "metadata": {
    "collapsed": true
   },
   "outputs": [
    {
     "name": "stderr",
     "output_type": "stream",
     "text": [
      "[nltk_data] Downloading package stopwords to\n",
      "[nltk_data]     C:\\Users\\HP\\AppData\\Roaming\\nltk_data...\n",
      "[nltk_data]   Package stopwords is already up-to-date!\n"
     ]
    }
   ],
   "source": [
    "nltk.download('stopwords')\n",
    "from nltk.corpus import stopwords\n",
    "stopWords=set(stopwords.words('english'))  #to set english stopwords"
   ]
  },
  {
   "cell_type": "code",
   "execution_count": 16,
   "id": "0ad94f18",
   "metadata": {
    "collapsed": true
   },
   "outputs": [
    {
     "name": "stdout",
     "output_type": "stream",
     "text": [
      "{\"you'll\", 'an', 'few', 'now', 're', 'from', 'but', \"should've\", 'these', 'should', 'than', 'have', 'they', 'up', \"you've\", 'can', 'very', 'if', 'above', 'mustn', 'their', 'those', 'am', 'during', 'here', 't', 'm', \"shan't\", 'this', 'wouldn', 'yourselves', 'as', 'was', 'because', 'no', \"didn't\", 'i', 'its', 'other', 'had', 'on', 'our', 'shouldn', 'won', 'herself', 'be', 'about', 'not', 'that', 'and', \"needn't\", 's', \"couldn't\", \"won't\", \"mustn't\", \"doesn't\", 'do', 'the', 'by', 'them', 'are', 'my', 'couldn', 'under', 'same', 'll', 'then', 've', 'more', 'aren', 'doing', 'there', 'of', \"you're\", 'her', \"you'd\", 'were', 'just', 'hers', 'theirs', 'yourself', 'does', 'most', 'haven', 'over', 'in', 'for', 'out', 'at', \"hadn't\", \"it's\", 'further', 'all', 'hadn', 'how', 'after', 'again', 'your', 'too', 'below', 'being', 'between', 'shan', 'whom', 'd', 'which', 'into', 'me', 'she', 'to', 'a', 'ourselves', 'off', 'some', \"aren't\", 'him', 'mightn', \"shouldn't\", 'any', 'wasn', \"wasn't\", 'with', \"wouldn't\", 'it', 'down', 'themselves', 'nor', 'who', 'weren', 'his', 'while', \"haven't\", 'ours', 'before', 'he', 'doesn', \"don't\", 'itself', \"she's\", 'once', 'why', 'ma', 'through', 'such', 'himself', 'did', 'only', \"mightn't\", \"weren't\", 'yours', 'has', 'where', 'don', 'is', 'been', 'until', 'myself', 'so', \"hasn't\", 'both', 'y', \"that'll\", 'having', 'what', 'against', \"isn't\", 'needn', 'own', 'you', 'ain', 'we', 'hasn', 'when', 'or', 'didn', 'each', 'o', 'will', 'isn'}\n"
     ]
    }
   ],
   "source": [
    "print(stopWords)"
   ]
  },
  {
   "cell_type": "code",
   "execution_count": 17,
   "id": "e1ef972a",
   "metadata": {
    "collapsed": true
   },
   "outputs": [
    {
     "data": {
      "text/plain": [
       "['T',\n",
       " 'h',\n",
       " 'i',\n",
       " 's',\n",
       " ' ',\n",
       " 'i',\n",
       " 's',\n",
       " ' ',\n",
       " 'a',\n",
       " ' ',\n",
       " 'g',\n",
       " 'r',\n",
       " 'e',\n",
       " 'a',\n",
       " 't',\n",
       " ' ',\n",
       " 'r',\n",
       " 'e',\n",
       " 'l',\n",
       " 'i',\n",
       " 'a',\n",
       " 'b',\n",
       " 'l',\n",
       " 'e',\n",
       " ' ',\n",
       " 'p',\n",
       " 'h',\n",
       " 'o',\n",
       " 'n',\n",
       " 'e',\n",
       " ' ',\n",
       " 'I',\n",
       " ' ',\n",
       " 'a',\n",
       " 'l',\n",
       " 's',\n",
       " 'o',\n",
       " ' ',\n",
       " 'p',\n",
       " 'u',\n",
       " 'r',\n",
       " 'c',\n",
       " 'h',\n",
       " 'a',\n",
       " 's',\n",
       " 'e',\n",
       " 'd']"
      ]
     },
     "execution_count": 17,
     "metadata": {},
     "output_type": "execute_result"
    }
   ],
   "source": [
    "import string\n",
    "data=\"This is a great!, reliable phone. I also purchased.\"\n",
    "b=[i for i in data if i not in string.punctuation]   #to remove punctuation in text\n"
   ]
  },
  {
   "cell_type": "code",
   "execution_count": 19,
   "id": "1974cb52",
   "metadata": {},
   "outputs": [
    {
     "data": {
      "text/plain": [
       "'This is a great reliable phone I also purchased'"
      ]
     },
     "execution_count": 19,
     "metadata": {},
     "output_type": "execute_result"
    }
   ],
   "source": [
    "new_data=\"\".join(b)\n",
    "new_data"
   ]
  },
  {
   "cell_type": "code",
   "execution_count": 20,
   "id": "27fe2a64",
   "metadata": {},
   "outputs": [
    {
     "data": {
      "text/plain": [
       "['This', 'is', 'a', 'great', 'reliable', 'phone', 'I', 'also', 'purchased']"
      ]
     },
     "execution_count": 20,
     "metadata": {},
     "output_type": "execute_result"
    }
   ],
   "source": [
    "n_data=new_data.split()\n",
    "n_data  #split the data into words(can also be done by word tokenizer)"
   ]
  },
  {
   "cell_type": "code",
   "execution_count": 43,
   "id": "e4d17ead",
   "metadata": {},
   "outputs": [
    {
     "data": {
      "text/plain": [
       "CountVectorizer()"
      ]
     },
     "execution_count": 43,
     "metadata": {},
     "output_type": "execute_result"
    }
   ],
   "source": [
    "from sklearn.feature_extraction.text import CountVectorizer\n",
    "d1=['This is a great reliable phone I also purchased']\n",
    "vec=CountVectorizer()\n",
    "vec.fit(d1)\n"
   ]
  },
  {
   "cell_type": "code",
   "execution_count": 48,
   "id": "349597a7",
   "metadata": {
    "collapsed": true
   },
   "outputs": [
    {
     "data": {
      "text/plain": [
       "{'this': 6,\n",
       " 'is': 2,\n",
       " 'great': 1,\n",
       " 'reliable': 5,\n",
       " 'phone': 3,\n",
       " 'also': 0,\n",
       " 'purchased': 4}"
      ]
     },
     "execution_count": 48,
     "metadata": {},
     "output_type": "execute_result"
    }
   ],
   "source": [
    "vec.vocabulary_"
   ]
  },
  {
   "cell_type": "code",
   "execution_count": 49,
   "id": "62f94012",
   "metadata": {
    "collapsed": true
   },
   "outputs": [
    {
     "name": "stdout",
     "output_type": "stream",
     "text": [
      "  (0, 0)\t1\n",
      "  (0, 1)\t1\n",
      "  (0, 2)\t1\n",
      "  (0, 3)\t1\n",
      "  (0, 4)\t1\n",
      "  (0, 5)\t1\n",
      "  (0, 6)\t1\n"
     ]
    }
   ],
   "source": [
    "vectorizer=vec.transform(n_data)\n",
    "print(vectorizer)"
   ]
  },
  {
   "cell_type": "code",
   "execution_count": 53,
   "id": "26f02e82",
   "metadata": {
    "collapsed": true
   },
   "outputs": [
    {
     "name": "stdout",
     "output_type": "stream",
     "text": [
      "  (0, 6)\t1\n",
      "  (1, 2)\t1\n",
      "  (3, 1)\t1\n",
      "  (4, 5)\t1\n",
      "  (5, 3)\t1\n",
      "  (7, 0)\t1\n",
      "  (8, 4)\t1\n"
     ]
    }
   ],
   "source": [
    "d2=n_data\n",
    "vec=CountVectorizer()\n",
    "print(vec.fit_transform(n_data))\n"
   ]
  },
  {
   "cell_type": "code",
   "execution_count": null,
   "id": "649e20d8",
   "metadata": {},
   "outputs": [],
   "source": []
  }
 ],
 "metadata": {
  "kernelspec": {
   "display_name": "Python 3",
   "language": "python",
   "name": "python3"
  },
  "language_info": {
   "codemirror_mode": {
    "name": "ipython",
    "version": 3
   },
   "file_extension": ".py",
   "mimetype": "text/x-python",
   "name": "python",
   "nbconvert_exporter": "python",
   "pygments_lexer": "ipython3",
   "version": "3.8.8"
  }
 },
 "nbformat": 4,
 "nbformat_minor": 5
}
