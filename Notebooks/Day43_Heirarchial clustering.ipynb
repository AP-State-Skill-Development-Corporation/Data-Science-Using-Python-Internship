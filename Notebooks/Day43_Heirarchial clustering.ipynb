{
 "cells": [
  {
   "cell_type": "markdown",
   "id": "c8d096b0",
   "metadata": {},
   "source": [
    "Kmeans   \n",
    "- we try to select the centroid by calculating the mean of datapoints\n",
    "k-medoids  \n",
    "- selects datapoints from the given dataset\n",
    "\n",
    "Disadvantages  \n",
    "- affect by outliers\n",
    "- choosing the no of clusters\n",
    "- fails to recognize patterns"
   ]
  },
  {
   "cell_type": "markdown",
   "id": "c6dab72b",
   "metadata": {},
   "source": [
    "Heirarchial Clustering\n",
    "- 2 methods\n",
    "    - Agglomerative method(bottomup approach)\n",
    "    - divisive(topdown appoach)\n",
    "- Agglomerative method(bottomup approach)\n",
    "    - linkage methods\n",
    "        - single linkage(calculates the distance b/w closest members of the two clusters)\n",
    "        - complete linkage(calculates the distance b/w farthest members of the two clusters)\n",
    "        - average linkage(distance b/w all pairs and calculates the average of all these distances)\n",
    "    - variance methods(ward)\n",
    "    - centroids methods   \n",
    "***Agglomerative method***\n",
    "- each object as a cluster\n",
    "- merge two clusters which are similar untill all objects are merged into a single cluster   \n",
    "***Divisive method***   \n",
    "- all objects stay in one cluster\n",
    "- select a cluster and divide to subclusters   \n",
    "***Dendogram***\n",
    "- a binary tree like structure that shows how clusters are merged/splitted heirachically   \n",
    "***Single Linkage***\n",
    "- sensitive to outliers\n",
    "- can find irregular shaped clusters   \n",
    "***Complete and average linkage***\n",
    "- robust to outliers\n",
    "- break large clusters(spherical clusters)  \n",
    "***choosing optimal value of k from the dendogram***\n",
    "- choose the largest vertical distance without crossing any horizontal line\n"
   ]
  },
  {
   "cell_type": "code",
   "execution_count": 4,
   "id": "1bfab856",
   "metadata": {
    "collapsed": true
   },
   "outputs": [
    {
     "data": {
      "text/html": [
       "<div>\n",
       "<style scoped>\n",
       "    .dataframe tbody tr th:only-of-type {\n",
       "        vertical-align: middle;\n",
       "    }\n",
       "\n",
       "    .dataframe tbody tr th {\n",
       "        vertical-align: top;\n",
       "    }\n",
       "\n",
       "    .dataframe thead th {\n",
       "        text-align: right;\n",
       "    }\n",
       "</style>\n",
       "<table border=\"1\" class=\"dataframe\">\n",
       "  <thead>\n",
       "    <tr style=\"text-align: right;\">\n",
       "      <th></th>\n",
       "      <th>CustomerID</th>\n",
       "      <th>Genre</th>\n",
       "      <th>Age</th>\n",
       "      <th>Annual Income (k$)</th>\n",
       "      <th>Spending Score (1-100)</th>\n",
       "    </tr>\n",
       "  </thead>\n",
       "  <tbody>\n",
       "    <tr>\n",
       "      <th>0</th>\n",
       "      <td>1</td>\n",
       "      <td>Male</td>\n",
       "      <td>19</td>\n",
       "      <td>15</td>\n",
       "      <td>39</td>\n",
       "    </tr>\n",
       "    <tr>\n",
       "      <th>1</th>\n",
       "      <td>2</td>\n",
       "      <td>Male</td>\n",
       "      <td>21</td>\n",
       "      <td>15</td>\n",
       "      <td>81</td>\n",
       "    </tr>\n",
       "    <tr>\n",
       "      <th>2</th>\n",
       "      <td>3</td>\n",
       "      <td>Female</td>\n",
       "      <td>20</td>\n",
       "      <td>16</td>\n",
       "      <td>6</td>\n",
       "    </tr>\n",
       "    <tr>\n",
       "      <th>3</th>\n",
       "      <td>4</td>\n",
       "      <td>Female</td>\n",
       "      <td>23</td>\n",
       "      <td>16</td>\n",
       "      <td>77</td>\n",
       "    </tr>\n",
       "    <tr>\n",
       "      <th>4</th>\n",
       "      <td>5</td>\n",
       "      <td>Female</td>\n",
       "      <td>31</td>\n",
       "      <td>17</td>\n",
       "      <td>40</td>\n",
       "    </tr>\n",
       "    <tr>\n",
       "      <th>...</th>\n",
       "      <td>...</td>\n",
       "      <td>...</td>\n",
       "      <td>...</td>\n",
       "      <td>...</td>\n",
       "      <td>...</td>\n",
       "    </tr>\n",
       "    <tr>\n",
       "      <th>195</th>\n",
       "      <td>196</td>\n",
       "      <td>Female</td>\n",
       "      <td>35</td>\n",
       "      <td>120</td>\n",
       "      <td>79</td>\n",
       "    </tr>\n",
       "    <tr>\n",
       "      <th>196</th>\n",
       "      <td>197</td>\n",
       "      <td>Female</td>\n",
       "      <td>45</td>\n",
       "      <td>126</td>\n",
       "      <td>28</td>\n",
       "    </tr>\n",
       "    <tr>\n",
       "      <th>197</th>\n",
       "      <td>198</td>\n",
       "      <td>Male</td>\n",
       "      <td>32</td>\n",
       "      <td>126</td>\n",
       "      <td>74</td>\n",
       "    </tr>\n",
       "    <tr>\n",
       "      <th>198</th>\n",
       "      <td>199</td>\n",
       "      <td>Male</td>\n",
       "      <td>32</td>\n",
       "      <td>137</td>\n",
       "      <td>18</td>\n",
       "    </tr>\n",
       "    <tr>\n",
       "      <th>199</th>\n",
       "      <td>200</td>\n",
       "      <td>Male</td>\n",
       "      <td>30</td>\n",
       "      <td>137</td>\n",
       "      <td>83</td>\n",
       "    </tr>\n",
       "  </tbody>\n",
       "</table>\n",
       "<p>200 rows × 5 columns</p>\n",
       "</div>"
      ],
      "text/plain": [
       "     CustomerID   Genre  Age  Annual Income (k$)  Spending Score (1-100)\n",
       "0             1    Male   19                  15                      39\n",
       "1             2    Male   21                  15                      81\n",
       "2             3  Female   20                  16                       6\n",
       "3             4  Female   23                  16                      77\n",
       "4             5  Female   31                  17                      40\n",
       "..          ...     ...  ...                 ...                     ...\n",
       "195         196  Female   35                 120                      79\n",
       "196         197  Female   45                 126                      28\n",
       "197         198    Male   32                 126                      74\n",
       "198         199    Male   32                 137                      18\n",
       "199         200    Male   30                 137                      83\n",
       "\n",
       "[200 rows x 5 columns]"
      ]
     },
     "execution_count": 4,
     "metadata": {},
     "output_type": "execute_result"
    }
   ],
   "source": [
    "import pandas as pd\n",
    "df=pd.read_csv(\"https://raw.githubusercontent.com/AP-State-Skill-Development-Corporation/Datasets/master/Clustering/Mall_Customers.csv\")\n",
    "df"
   ]
  },
  {
   "cell_type": "code",
   "execution_count": 7,
   "id": "4eb437b8",
   "metadata": {
    "collapsed": true
   },
   "outputs": [
    {
     "data": {
      "text/html": [
       "<div>\n",
       "<style scoped>\n",
       "    .dataframe tbody tr th:only-of-type {\n",
       "        vertical-align: middle;\n",
       "    }\n",
       "\n",
       "    .dataframe tbody tr th {\n",
       "        vertical-align: top;\n",
       "    }\n",
       "\n",
       "    .dataframe thead th {\n",
       "        text-align: right;\n",
       "    }\n",
       "</style>\n",
       "<table border=\"1\" class=\"dataframe\">\n",
       "  <thead>\n",
       "    <tr style=\"text-align: right;\">\n",
       "      <th></th>\n",
       "      <th>Age</th>\n",
       "      <th>Annual Income (k$)</th>\n",
       "    </tr>\n",
       "  </thead>\n",
       "  <tbody>\n",
       "    <tr>\n",
       "      <th>0</th>\n",
       "      <td>19</td>\n",
       "      <td>15</td>\n",
       "    </tr>\n",
       "    <tr>\n",
       "      <th>1</th>\n",
       "      <td>21</td>\n",
       "      <td>15</td>\n",
       "    </tr>\n",
       "    <tr>\n",
       "      <th>2</th>\n",
       "      <td>20</td>\n",
       "      <td>16</td>\n",
       "    </tr>\n",
       "    <tr>\n",
       "      <th>3</th>\n",
       "      <td>23</td>\n",
       "      <td>16</td>\n",
       "    </tr>\n",
       "    <tr>\n",
       "      <th>4</th>\n",
       "      <td>31</td>\n",
       "      <td>17</td>\n",
       "    </tr>\n",
       "    <tr>\n",
       "      <th>...</th>\n",
       "      <td>...</td>\n",
       "      <td>...</td>\n",
       "    </tr>\n",
       "    <tr>\n",
       "      <th>195</th>\n",
       "      <td>35</td>\n",
       "      <td>120</td>\n",
       "    </tr>\n",
       "    <tr>\n",
       "      <th>196</th>\n",
       "      <td>45</td>\n",
       "      <td>126</td>\n",
       "    </tr>\n",
       "    <tr>\n",
       "      <th>197</th>\n",
       "      <td>32</td>\n",
       "      <td>126</td>\n",
       "    </tr>\n",
       "    <tr>\n",
       "      <th>198</th>\n",
       "      <td>32</td>\n",
       "      <td>137</td>\n",
       "    </tr>\n",
       "    <tr>\n",
       "      <th>199</th>\n",
       "      <td>30</td>\n",
       "      <td>137</td>\n",
       "    </tr>\n",
       "  </tbody>\n",
       "</table>\n",
       "<p>200 rows × 2 columns</p>\n",
       "</div>"
      ],
      "text/plain": [
       "     Age  Annual Income (k$)\n",
       "0     19                  15\n",
       "1     21                  15\n",
       "2     20                  16\n",
       "3     23                  16\n",
       "4     31                  17\n",
       "..   ...                 ...\n",
       "195   35                 120\n",
       "196   45                 126\n",
       "197   32                 126\n",
       "198   32                 137\n",
       "199   30                 137\n",
       "\n",
       "[200 rows x 2 columns]"
      ]
     },
     "execution_count": 7,
     "metadata": {},
     "output_type": "execute_result"
    }
   ],
   "source": [
    "x=df.iloc[:,[2,3]]\n",
    "x"
   ]
  },
  {
   "cell_type": "code",
   "execution_count": 9,
   "id": "014a47c1",
   "metadata": {},
   "outputs": [
    {
     "data": {
      "text/plain": [
       "<matplotlib.collections.PathCollection at 0x1c4ae5eccd0>"
      ]
     },
     "execution_count": 9,
     "metadata": {},
     "output_type": "execute_result"
    },
    {
     "data": {
      "image/png": "[encoded data removed]",
      "text/plain": [
       "<Figure size 432x288 with 1 Axes>"
      ]
     },
     "metadata": {
      "needs_background": "light"
     },
     "output_type": "display_data"
    }
   ],
   "source": [
    "import matplotlib.pyplot as plt\n",
    "plt.scatter(df[\"Age\"],df[\"Annual Income (k$)\"],s=60)"
   ]
  },
  {
   "cell_type": "code",
   "execution_count": 13,
   "id": "7ec1dc52",
   "metadata": {},
   "outputs": [
    {
     "data": {
      "image/png": "[encoded data removed]",
      "text/plain": [
       "<Figure size 720x504 with 1 Axes>"
      ]
     },
     "metadata": {
      "needs_background": "light"
     },
     "output_type": "display_data"
    }
   ],
   "source": [
    "import scipy.cluster.hierarchy as dg\n",
    "plt.figure(figsize=(10,7))\n",
    "dendrogram=dg.dendrogram(dg.linkage(x,method=\"ward\"))\n",
    "plt.title(\"Dendrogram\")\n",
    "plt.xlabel(\"input\")\n",
    "plt.ylabel(\"euclidean\")\n",
    "plt.show()"
   ]
  },
  {
   "cell_type": "code",
   "execution_count": 28,
   "id": "30860608",
   "metadata": {
    "collapsed": true
   },
   "outputs": [
    {
     "data": {
      "text/plain": [
       "array([1, 1, 1, 1, 1, 1, 1, 1, 1, 1, 1, 1, 1, 1, 1, 1, 1, 1, 1, 1, 1, 1,\n",
       "       1, 1, 1, 1, 1, 1, 1, 1, 1, 1, 1, 1, 1, 1, 1, 1, 1, 1, 1, 1, 1, 1,\n",
       "       1, 1, 1, 1, 1, 1, 1, 1, 1, 1, 1, 1, 1, 1, 1, 1, 1, 1, 1, 1, 1, 1,\n",
       "       0, 1, 1, 1, 1, 0, 1, 1, 1, 0, 0, 0, 0, 0, 1, 0, 1, 0, 0, 0, 1, 0,\n",
       "       0, 0, 1, 0, 0, 0, 0, 0, 0, 0, 0, 0, 0, 0, 1, 0, 0, 0, 1, 0, 1, 1,\n",
       "       1, 0, 0, 0, 0, 0, 1, 0, 0, 0, 0, 0, 0, 0, 0, 0, 0, 0, 0, 0, 0, 0,\n",
       "       0, 0, 0, 0, 0, 0, 0, 0, 0, 0, 0, 0, 0, 0, 0, 0, 0, 0, 0, 0, 0, 0,\n",
       "       0, 0, 0, 0, 0, 0, 0, 0, 0, 0, 0, 0, 0, 0, 0, 0, 0, 0, 0, 0, 0, 0,\n",
       "       0, 0, 0, 0, 0, 0, 0, 0, 0, 0, 0, 0, 0, 0, 0, 0, 0, 0, 0, 0, 0, 0,\n",
       "       0, 0], dtype=int64)"
      ]
     },
     "execution_count": 28,
     "metadata": {},
     "output_type": "execute_result"
    }
   ],
   "source": [
    "from sklearn.cluster import AgglomerativeClustering\n",
    "model=AgglomerativeClustering(n_clusters=2,affinity='euclidean',linkage=\"ward\")\n",
    "pred=model.fit_predict(x)\n",
    "pred"
   ]
  },
  {
   "cell_type": "code",
   "execution_count": 29,
   "id": "4d64eaf2",
   "metadata": {},
   "outputs": [
    {
     "data": {
      "text/plain": [
       "0.4104652474372429"
      ]
     },
     "execution_count": 29,
     "metadata": {},
     "output_type": "execute_result"
    }
   ],
   "source": [
    "from sklearn.metrics import silhouette_score\n",
    "silhouette_score(x,pred)"
   ]
  },
  {
   "cell_type": "code",
   "execution_count": 32,
   "id": "ac5405cc",
   "metadata": {
    "collapsed": true
   },
   "outputs": [
    {
     "name": "stderr",
     "output_type": "stream",
     "text": [
      "C:\\Users\\HP\\anaconda3\\lib\\site-packages\\sklearn\\cluster\\_kmeans.py:881: UserWarning: KMeans is known to have a memory leak on Windows with MKL, when there are less chunks than available threads. You can avoid it by setting the environment variable OMP_NUM_THREADS=1.\n",
      "  warnings.warn(\n"
     ]
    },
    {
     "data": {
      "text/plain": [
       "[<matplotlib.lines.Line2D at 0x1c4b27d4160>]"
      ]
     },
     "execution_count": 32,
     "metadata": {},
     "output_type": "execute_result"
    },
    {
     "data": {
      "image/png": "[encoded data removed]",
      "text/plain": [
       "<Figure size 432x288 with 1 Axes>"
      ]
     },
     "metadata": {
      "needs_background": "light"
     },
     "output_type": "display_data"
    }
   ],
   "source": [
    "from sklearn.cluster import KMeans\n",
    "l=[]\n",
    "k=range(1,15)\n",
    "for i in k:\n",
    "    model=KMeans(n_clusters=i,random_state=42)\n",
    "    model.fit(x)\n",
    "    l.append(model.inertia_)\n",
    "plt.plot(k,l)"
   ]
  },
  {
   "cell_type": "code",
   "execution_count": 36,
   "id": "d36d1350",
   "metadata": {},
   "outputs": [
    {
     "data": {
      "text/plain": [
       "0.43295184273333076"
      ]
     },
     "execution_count": 36,
     "metadata": {},
     "output_type": "execute_result"
    }
   ],
   "source": [
    "from sklearn.cluster import KMeans\n",
    "model=KMeans(n_clusters=4,random_state=42)\n",
    "model.fit(x)\n",
    "y_pred=model.predict(x)\n",
    "silhouette_score(x,y_pred)"
   ]
  },
  {
   "cell_type": "code",
   "execution_count": 37,
   "id": "2ae507f7",
   "metadata": {
    "collapsed": true
   },
   "outputs": [
    {
     "data": {
      "text/plain": [
       "array([[0.78488277, 0.61964429],\n",
       "       [0.81373347, 0.58123819],\n",
       "       [0.78086881, 0.62469505],\n",
       "       [0.8209052 , 0.57106449],\n",
       "       [0.87681241, 0.48083261],\n",
       "       [0.791285  , 0.6114475 ],\n",
       "       [0.8892878 , 0.45734801],\n",
       "       [0.787505  , 0.61630826],\n",
       "       [0.95864687, 0.28459829],\n",
       "       [0.84481908, 0.53505208],\n",
       "       [0.96206393, 0.2728241 ],\n",
       "       [0.87885343, 0.47709186],\n",
       "       [0.94537298, 0.32599068],\n",
       "       [0.76822128, 0.6401844 ],\n",
       "       [0.87970651, 0.47551703],\n",
       "       [0.73994007, 0.67267279],\n",
       "       [0.85749293, 0.51449576],\n",
       "       [0.68965517, 0.72413793],\n",
       "       [0.91453534, 0.40450601],\n",
       "       [0.83570548, 0.54917789],\n",
       "       [0.82472885, 0.56552836],\n",
       "       [0.72138732, 0.69253183],\n",
       "       [0.87862451, 0.47751332],\n",
       "       [0.77841304, 0.62775245],\n",
       "       [0.88775453, 0.46031716],\n",
       "       [0.71940146, 0.69459451],\n",
       "       [0.8490566 , 0.52830189],\n",
       "       [0.78086881, 0.62469505],\n",
       "       [0.80961044, 0.58696757],\n",
       "       [0.62139471, 0.78349768],\n",
       "       [0.89442719, 0.4472136 ],\n",
       "       [0.57346234, 0.81923192],\n",
       "       [0.84889691, 0.52855845],\n",
       "       [0.47885213, 0.87789557],\n",
       "       [0.82943693, 0.55860038],\n",
       "       [0.53687549, 0.84366149],\n",
       "       [0.77724487, 0.62919823],\n",
       "       [0.66162164, 0.74983786],\n",
       "       [0.69735496, 0.71672593],\n",
       "       [0.47551703, 0.87970651],\n",
       "       [0.86329679, 0.50469659],\n",
       "       [0.53399299, 0.8454889 ],\n",
       "       [0.776114  , 0.63059263],\n",
       "       [0.62224413, 0.78282325],\n",
       "       [0.78242422, 0.62274581],\n",
       "       [0.52409743, 0.85165832],\n",
       "       [0.78086881, 0.62469505],\n",
       "       [0.55947286, 0.82884867],\n",
       "       [0.58696757, 0.80961044],\n",
       "       [0.61257167, 0.79041505],\n",
       "       [0.7592566 , 0.65079137],\n",
       "       [0.61782155, 0.78631834],\n",
       "       [0.58480158, 0.81117638],\n",
       "       [0.80814336, 0.58898584],\n",
       "       [0.7581852 , 0.65203927],\n",
       "       [0.73780541, 0.67501346],\n",
       "       [0.75715673, 0.65323326],\n",
       "       [0.84315795, 0.53766594],\n",
       "       [0.50620057, 0.86241578],\n",
       "       [0.75521873, 0.65547286],\n",
       "       [0.83570548, 0.54917789],\n",
       "       [0.38176015, 0.92426143],\n",
       "       [0.81865747, 0.57428211],\n",
       "       [0.75430472, 0.65652448],\n",
       "       [0.79543172, 0.60604322],\n",
       "       [0.35112344, 0.93632918],\n",
       "       [0.66724832, 0.74483534],\n",
       "       [0.81696786, 0.5766832 ],\n",
       "       [0.36804845, 0.92980661],\n",
       "       [0.5547002 , 0.83205029],\n",
       "       [0.81923192, 0.57346234],\n",
       "       [0.69222518, 0.72168157],\n",
       "       [0.76822128, 0.6401844 ],\n",
       "       [0.76822128, 0.6401844 ],\n",
       "       [0.73767291, 0.67515826],\n",
       "       [0.43381562, 0.90100167],\n",
       "       [0.6401844 , 0.76822128],\n",
       "       [0.59522755, 0.80355719],\n",
       "       [0.39186207, 0.92002398],\n",
       "       [0.67198991, 0.74056031],\n",
       "       [0.72595268, 0.68774465],\n",
       "       [0.57549341, 0.81780642],\n",
       "       [0.77859618, 0.62752528],\n",
       "       [0.64846646, 0.76124323],\n",
       "       [0.36244626, 0.93200467],\n",
       "       [0.66436384, 0.74740932],\n",
       "       [0.69436917, 0.71961896],\n",
       "       [0.36007559, 0.93292313],\n",
       "       [0.5057195 , 0.86269797],\n",
       "       [0.65293962, 0.75740996],\n",
       "       [0.75532247, 0.65535332],\n",
       "       [0.29180664, 0.95647733],\n",
       "       [0.62469505, 0.78086881],\n",
       "       [0.5547002 , 0.83205029],\n",
       "       [0.47058824, 0.88235294],\n",
       "       [0.37139068, 0.92847669],\n",
       "       [0.61666198, 0.78722805],\n",
       "       [0.41036468, 0.91192151],\n",
       "       [0.61839036, 0.78587108],\n",
       "       [0.31155067, 0.95022954],\n",
       "       [0.34780682, 0.93756622],\n",
       "       [0.62005449, 0.78455875],\n",
       "       [0.73396291, 0.67918956],\n",
       "       [0.38672668, 0.92219438],\n",
       "       [0.62005449, 0.78455875],\n",
       "       [0.32080703, 0.94714458],\n",
       "       [0.72335554, 0.69047575],\n",
       "       [0.65079137, 0.7592566 ],\n",
       "       [0.73356146, 0.67962312],\n",
       "       [0.72335554, 0.69047575],\n",
       "       [0.71806768, 0.69597329],\n",
       "       [0.2887418 , 0.95740701],\n",
       "       [0.51053875, 0.85985474],\n",
       "       [0.28459829, 0.95864687],\n",
       "       [0.26687908, 0.96373002],\n",
       "       [0.28056699, 0.95983445],\n",
       "       [0.69597329, 0.71806768],\n",
       "       [0.60196378, 0.79852339],\n",
       "       [0.60568533, 0.79570426],\n",
       "       [0.59808441, 0.80143311],\n",
       "       [0.37377627, 0.92751889],\n",
       "       [0.49334011, 0.8698365 ],\n",
       "       [0.50153044, 0.86514   ],\n",
       "       [0.49205726, 0.87056284],\n",
       "       [0.31215329, 0.95003175],\n",
       "       [0.40492616, 0.91434939],\n",
       "       [0.51803469, 0.85535961],\n",
       "       [0.49084373, 0.87124763],\n",
       "       [0.63911829, 0.76910845],\n",
       "       [0.47187678, 0.88166451],\n",
       "       [0.55198701, 0.83385271],\n",
       "       [0.48144479, 0.87647642],\n",
       "       [0.32801169, 0.94467366],\n",
       "       [0.39545835, 0.91848391],\n",
       "       [0.26423515, 0.96445829],\n",
       "       [0.36919466, 0.92935209],\n",
       "       [0.51622005, 0.85645599],\n",
       "       [0.40147689, 0.91586915],\n",
       "       [0.24869025, 0.96858307],\n",
       "       [0.42756115, 0.90398643],\n",
       "       [0.60508327, 0.79616219],\n",
       "       [0.39243869, 0.91977817],\n",
       "       [0.34570536, 0.93834312],\n",
       "       [0.388057  , 0.92163538],\n",
       "       [0.30880675, 0.9511248 ],\n",
       "       [0.34174306, 0.93979342],\n",
       "       [0.52900793, 0.84861688],\n",
       "       [0.38376367, 0.92343134],\n",
       "       [0.39958542, 0.91669596],\n",
       "       [0.39958542, 0.91669596],\n",
       "       [0.48278051, 0.87574139],\n",
       "       [0.4472136 , 0.89442719],\n",
       "       [0.49132119, 0.87097847],\n",
       "       [0.43796942, 0.89898987],\n",
       "       [0.5161097 , 0.85652249],\n",
       "       [0.32711056, 0.94498607],\n",
       "       [0.42858421, 0.90350184],\n",
       "       [0.35897908, 0.93334561],\n",
       "       [0.39958542, 0.91669596],\n",
       "       [0.35897908, 0.93334561],\n",
       "       [0.57830383, 0.81582148],\n",
       "       [0.34460378, 0.93874823],\n",
       "       [0.22836934, 0.97357457],\n",
       "       [0.35743332, 0.93393866],\n",
       "       [0.50702013, 0.86193422],\n",
       "       [0.38999336, 0.92081767],\n",
       "       [0.4388353 , 0.89856752],\n",
       "       [0.3582515 , 0.93362512],\n",
       "       [0.38235179, 0.92401683],\n",
       "       [0.34520539, 0.93852716],\n",
       "       [0.41773321, 0.90856974],\n",
       "       [0.30636334, 0.95191465],\n",
       "       [0.38235179, 0.92401683],\n",
       "       [0.38235179, 0.92401683],\n",
       "       [0.50872931, 0.86092653],\n",
       "       [0.32267393, 0.94651019],\n",
       "       [0.55031336, 0.8349582 ],\n",
       "       [0.29332235, 0.9560136 ],\n",
       "       [0.53569996, 0.84440841],\n",
       "       [0.35222606, 0.93591496],\n",
       "       [0.35639585, 0.93433506],\n",
       "       [0.31328916, 0.94965778],\n",
       "       [0.42490714, 0.90523694],\n",
       "       [0.28375517, 0.95889677],\n",
       "       [0.38262654, 0.9239031 ],\n",
       "       [0.2900074 , 0.9570244 ],\n",
       "       [0.47149436, 0.88186908],\n",
       "       [0.26715174, 0.96365448],\n",
       "       [0.36983492, 0.92909748],\n",
       "       [0.32994215, 0.94400115],\n",
       "       [0.31346059, 0.94960121],\n",
       "       [0.29669082, 0.95497359],\n",
       "       [0.28032618, 0.9599048 ],\n",
       "       [0.31874305, 0.94784116],\n",
       "       [0.3646919 , 0.93112825],\n",
       "       [0.28      , 0.96      ],\n",
       "       [0.3363364 , 0.94174191],\n",
       "       [0.24615385, 0.96923077],\n",
       "       [0.22745431, 0.97378875],\n",
       "       [0.21390952, 0.97685348]])"
      ]
     },
     "execution_count": 37,
     "metadata": {},
     "output_type": "execute_result"
    }
   ],
   "source": [
    "#scaling the data\n",
    "from sklearn.preprocessing import normalize\n",
    "x_scale=normalize(x)\n",
    "x_scale"
   ]
  },
  {
   "cell_type": "code",
   "execution_count": 39,
   "id": "64ac7849",
   "metadata": {
    "collapsed": true
   },
   "outputs": [
    {
     "data": {
      "text/html": [
       "<div>\n",
       "<style scoped>\n",
       "    .dataframe tbody tr th:only-of-type {\n",
       "        vertical-align: middle;\n",
       "    }\n",
       "\n",
       "    .dataframe tbody tr th {\n",
       "        vertical-align: top;\n",
       "    }\n",
       "\n",
       "    .dataframe thead th {\n",
       "        text-align: right;\n",
       "    }\n",
       "</style>\n",
       "<table border=\"1\" class=\"dataframe\">\n",
       "  <thead>\n",
       "    <tr style=\"text-align: right;\">\n",
       "      <th></th>\n",
       "      <th>0</th>\n",
       "      <th>1</th>\n",
       "    </tr>\n",
       "  </thead>\n",
       "  <tbody>\n",
       "    <tr>\n",
       "      <th>0</th>\n",
       "      <td>0.784883</td>\n",
       "      <td>0.619644</td>\n",
       "    </tr>\n",
       "    <tr>\n",
       "      <th>1</th>\n",
       "      <td>0.813733</td>\n",
       "      <td>0.581238</td>\n",
       "    </tr>\n",
       "    <tr>\n",
       "      <th>2</th>\n",
       "      <td>0.780869</td>\n",
       "      <td>0.624695</td>\n",
       "    </tr>\n",
       "    <tr>\n",
       "      <th>3</th>\n",
       "      <td>0.820905</td>\n",
       "      <td>0.571064</td>\n",
       "    </tr>\n",
       "    <tr>\n",
       "      <th>4</th>\n",
       "      <td>0.876812</td>\n",
       "      <td>0.480833</td>\n",
       "    </tr>\n",
       "    <tr>\n",
       "      <th>...</th>\n",
       "      <td>...</td>\n",
       "      <td>...</td>\n",
       "    </tr>\n",
       "    <tr>\n",
       "      <th>195</th>\n",
       "      <td>0.280000</td>\n",
       "      <td>0.960000</td>\n",
       "    </tr>\n",
       "    <tr>\n",
       "      <th>196</th>\n",
       "      <td>0.336336</td>\n",
       "      <td>0.941742</td>\n",
       "    </tr>\n",
       "    <tr>\n",
       "      <th>197</th>\n",
       "      <td>0.246154</td>\n",
       "      <td>0.969231</td>\n",
       "    </tr>\n",
       "    <tr>\n",
       "      <th>198</th>\n",
       "      <td>0.227454</td>\n",
       "      <td>0.973789</td>\n",
       "    </tr>\n",
       "    <tr>\n",
       "      <th>199</th>\n",
       "      <td>0.213910</td>\n",
       "      <td>0.976853</td>\n",
       "    </tr>\n",
       "  </tbody>\n",
       "</table>\n",
       "<p>200 rows × 2 columns</p>\n",
       "</div>"
      ],
      "text/plain": [
       "            0         1\n",
       "0    0.784883  0.619644\n",
       "1    0.813733  0.581238\n",
       "2    0.780869  0.624695\n",
       "3    0.820905  0.571064\n",
       "4    0.876812  0.480833\n",
       "..        ...       ...\n",
       "195  0.280000  0.960000\n",
       "196  0.336336  0.941742\n",
       "197  0.246154  0.969231\n",
       "198  0.227454  0.973789\n",
       "199  0.213910  0.976853\n",
       "\n",
       "[200 rows x 2 columns]"
      ]
     },
     "execution_count": 39,
     "metadata": {},
     "output_type": "execute_result"
    }
   ],
   "source": [
    "scale_data=pd.DataFrame(x_scale)\n",
    "scale_data"
   ]
  },
  {
   "cell_type": "code",
   "execution_count": 41,
   "id": "3dbe5177",
   "metadata": {
    "collapsed": true
   },
   "outputs": [
    {
     "data": {
      "text/plain": [
       "<matplotlib.collections.PathCollection at 0x1c4b281c1c0>"
      ]
     },
     "execution_count": 41,
     "metadata": {},
     "output_type": "execute_result"
    },
    {
     "data": {
      "image/png": "[encoded data removed]",
      "text/plain": [
       "<Figure size 432x288 with 1 Axes>"
      ]
     },
     "metadata": {
      "needs_background": "light"
     },
     "output_type": "display_data"
    }
   ],
   "source": [
    "import matplotlib.pyplot as plt\n",
    "plt.scatter(scale_data[0],scale_data[1],s=60)"
   ]
  },
  {
   "cell_type": "code",
   "execution_count": 42,
   "id": "44d6ee32",
   "metadata": {
    "collapsed": true
   },
   "outputs": [
    {
     "data": {
      "text/plain": [
       "array([1, 1, 1, 1, 1, 1, 1, 1, 1, 1, 1, 1, 1, 1, 1, 1, 1, 1, 1, 1, 1, 1,\n",
       "       1, 1, 1, 1, 1, 1, 1, 0, 1, 0, 1, 0, 1, 0, 1, 0, 1, 0, 1, 0, 1, 0,\n",
       "       1, 0, 1, 0, 0, 0, 1, 0, 0, 1, 1, 1, 1, 1, 0, 1, 1, 0, 1, 1, 1, 0,\n",
       "       0, 1, 0, 0, 1, 1, 1, 1, 1, 0, 0, 0, 0, 0, 1, 0, 1, 0, 0, 0, 1, 0,\n",
       "       0, 0, 1, 0, 0, 0, 0, 0, 0, 0, 0, 0, 0, 0, 1, 0, 0, 0, 1, 0, 1, 1,\n",
       "       1, 0, 0, 0, 0, 0, 1, 0, 0, 0, 0, 0, 0, 0, 0, 0, 0, 0, 0, 0, 0, 0,\n",
       "       0, 0, 0, 0, 0, 0, 0, 0, 0, 0, 0, 0, 0, 0, 0, 0, 0, 0, 0, 0, 0, 0,\n",
       "       0, 0, 0, 0, 0, 0, 0, 0, 0, 0, 0, 0, 0, 0, 0, 0, 0, 0, 0, 0, 0, 0,\n",
       "       0, 0, 0, 0, 0, 0, 0, 0, 0, 0, 0, 0, 0, 0, 0, 0, 0, 0, 0, 0, 0, 0,\n",
       "       0, 0], dtype=int64)"
      ]
     },
     "execution_count": 42,
     "metadata": {},
     "output_type": "execute_result"
    }
   ],
   "source": [
    "from sklearn.cluster import AgglomerativeClustering\n",
    "model=AgglomerativeClustering(n_clusters=2,affinity='euclidean',linkage=\"ward\")\n",
    "pred=model.fit_predict(x_scale)\n",
    "pred"
   ]
  },
  {
   "cell_type": "code",
   "execution_count": 43,
   "id": "4f92e0d7",
   "metadata": {},
   "outputs": [
    {
     "data": {
      "text/plain": [
       "0.6332340091836156"
      ]
     },
     "execution_count": 43,
     "metadata": {},
     "output_type": "execute_result"
    }
   ],
   "source": [
    "silhouette_score(x_scale,pred)"
   ]
  },
  {
   "cell_type": "code",
   "execution_count": 44,
   "id": "2d594795",
   "metadata": {
    "collapsed": true
   },
   "outputs": [
    {
     "data": {
      "text/plain": [
       "array([1, 1, 1, 1, 1, 1, 1, 1, 1, 1, 1, 1, 1, 1, 1, 1, 1, 1, 1, 1, 1, 1,\n",
       "       1, 1, 1, 1, 1, 1, 1, 0, 1, 0, 1, 0, 1, 0, 1, 0, 1, 0, 1, 0, 1, 0,\n",
       "       1, 0, 1, 0, 0, 0, 1, 0, 0, 1, 1, 1, 1, 1, 0, 1, 1, 0, 1, 1, 1, 0,\n",
       "       0, 1, 0, 0, 1, 1, 1, 1, 1, 0, 0, 0, 0, 0, 1, 0, 1, 0, 0, 0, 1, 0,\n",
       "       0, 0, 1, 0, 0, 0, 0, 0, 0, 0, 0, 0, 0, 0, 1, 0, 0, 0, 1, 0, 1, 1,\n",
       "       1, 0, 0, 0, 0, 0, 1, 0, 0, 0, 0, 0, 0, 0, 0, 0, 0, 0, 0, 0, 0, 0,\n",
       "       0, 0, 0, 0, 0, 0, 0, 0, 0, 0, 0, 0, 0, 0, 0, 0, 0, 0, 0, 0, 0, 0,\n",
       "       0, 0, 0, 0, 0, 0, 0, 0, 0, 0, 0, 0, 0, 0, 0, 0, 0, 0, 0, 0, 0, 0,\n",
       "       0, 0, 0, 0, 0, 0, 0, 0, 0, 0, 0, 0, 0, 0, 0, 0, 0, 0, 0, 0, 0, 0,\n",
       "       0, 0], dtype=int64)"
      ]
     },
     "execution_count": 44,
     "metadata": {},
     "output_type": "execute_result"
    }
   ],
   "source": [
    "pred"
   ]
  },
  {
   "cell_type": "code",
   "execution_count": 58,
   "id": "301ec663",
   "metadata": {
    "collapsed": true
   },
   "outputs": [
    {
     "data": {
      "text/plain": [
       "array([[ 19,  15],\n",
       "       [ 21,  15],\n",
       "       [ 20,  16],\n",
       "       [ 23,  16],\n",
       "       [ 31,  17],\n",
       "       [ 22,  17],\n",
       "       [ 35,  18],\n",
       "       [ 23,  18],\n",
       "       [ 64,  19],\n",
       "       [ 30,  19],\n",
       "       [ 67,  19],\n",
       "       [ 35,  19],\n",
       "       [ 58,  20],\n",
       "       [ 24,  20],\n",
       "       [ 37,  20],\n",
       "       [ 22,  20],\n",
       "       [ 35,  21],\n",
       "       [ 20,  21],\n",
       "       [ 52,  23],\n",
       "       [ 35,  23],\n",
       "       [ 35,  24],\n",
       "       [ 25,  24],\n",
       "       [ 46,  25],\n",
       "       [ 31,  25],\n",
       "       [ 54,  28],\n",
       "       [ 29,  28],\n",
       "       [ 45,  28],\n",
       "       [ 35,  28],\n",
       "       [ 40,  29],\n",
       "       [ 23,  29],\n",
       "       [ 60,  30],\n",
       "       [ 21,  30],\n",
       "       [ 53,  33],\n",
       "       [ 18,  33],\n",
       "       [ 49,  33],\n",
       "       [ 21,  33],\n",
       "       [ 42,  34],\n",
       "       [ 30,  34],\n",
       "       [ 36,  37],\n",
       "       [ 20,  37],\n",
       "       [ 65,  38],\n",
       "       [ 24,  38],\n",
       "       [ 48,  39],\n",
       "       [ 31,  39],\n",
       "       [ 49,  39],\n",
       "       [ 24,  39],\n",
       "       [ 50,  40],\n",
       "       [ 27,  40],\n",
       "       [ 29,  40],\n",
       "       [ 31,  40],\n",
       "       [ 49,  42],\n",
       "       [ 33,  42],\n",
       "       [ 31,  43],\n",
       "       [ 59,  43],\n",
       "       [ 50,  43],\n",
       "       [ 47,  43],\n",
       "       [ 51,  44],\n",
       "       [ 69,  44],\n",
       "       [ 27,  46],\n",
       "       [ 53,  46],\n",
       "       [ 70,  46],\n",
       "       [ 19,  46],\n",
       "       [ 67,  47],\n",
       "       [ 54,  47],\n",
       "       [ 63,  48],\n",
       "       [ 18,  48],\n",
       "       [ 43,  48],\n",
       "       [ 68,  48],\n",
       "       [ 19,  48],\n",
       "       [ 32,  48],\n",
       "       [ 70,  49],\n",
       "       [ 47,  49],\n",
       "       [ 60,  50],\n",
       "       [ 60,  50],\n",
       "       [ 59,  54],\n",
       "       [ 26,  54],\n",
       "       [ 45,  54],\n",
       "       [ 40,  54],\n",
       "       [ 23,  54],\n",
       "       [ 49,  54],\n",
       "       [ 57,  54],\n",
       "       [ 38,  54],\n",
       "       [ 67,  54],\n",
       "       [ 46,  54],\n",
       "       [ 21,  54],\n",
       "       [ 48,  54],\n",
       "       [ 55,  57],\n",
       "       [ 22,  57],\n",
       "       [ 34,  58],\n",
       "       [ 50,  58],\n",
       "       [ 68,  59],\n",
       "       [ 18,  59],\n",
       "       [ 48,  60],\n",
       "       [ 40,  60],\n",
       "       [ 32,  60],\n",
       "       [ 24,  60],\n",
       "       [ 47,  60],\n",
       "       [ 27,  60],\n",
       "       [ 48,  61],\n",
       "       [ 20,  61],\n",
       "       [ 23,  62],\n",
       "       [ 49,  62],\n",
       "       [ 67,  62],\n",
       "       [ 26,  62],\n",
       "       [ 49,  62],\n",
       "       [ 21,  62],\n",
       "       [ 66,  63],\n",
       "       [ 54,  63],\n",
       "       [ 68,  63],\n",
       "       [ 66,  63],\n",
       "       [ 65,  63],\n",
       "       [ 19,  63],\n",
       "       [ 38,  64],\n",
       "       [ 19,  64],\n",
       "       [ 18,  65],\n",
       "       [ 19,  65],\n",
       "       [ 63,  65],\n",
       "       [ 49,  65],\n",
       "       [ 51,  67],\n",
       "       [ 50,  67],\n",
       "       [ 27,  67],\n",
       "       [ 38,  67],\n",
       "       [ 40,  69],\n",
       "       [ 39,  69],\n",
       "       [ 23,  70],\n",
       "       [ 31,  70],\n",
       "       [ 43,  71],\n",
       "       [ 40,  71],\n",
       "       [ 59,  71],\n",
       "       [ 38,  71],\n",
       "       [ 47,  71],\n",
       "       [ 39,  71],\n",
       "       [ 25,  72],\n",
       "       [ 31,  72],\n",
       "       [ 20,  73],\n",
       "       [ 29,  73],\n",
       "       [ 44,  73],\n",
       "       [ 32,  73],\n",
       "       [ 19,  74],\n",
       "       [ 35,  74],\n",
       "       [ 57,  75],\n",
       "       [ 32,  75],\n",
       "       [ 28,  76],\n",
       "       [ 32,  76],\n",
       "       [ 25,  77],\n",
       "       [ 28,  77],\n",
       "       [ 48,  77],\n",
       "       [ 32,  77],\n",
       "       [ 34,  78],\n",
       "       [ 34,  78],\n",
       "       [ 43,  78],\n",
       "       [ 39,  78],\n",
       "       [ 44,  78],\n",
       "       [ 38,  78],\n",
       "       [ 47,  78],\n",
       "       [ 27,  78],\n",
       "       [ 37,  78],\n",
       "       [ 30,  78],\n",
       "       [ 34,  78],\n",
       "       [ 30,  78],\n",
       "       [ 56,  79],\n",
       "       [ 29,  79],\n",
       "       [ 19,  81],\n",
       "       [ 31,  81],\n",
       "       [ 50,  85],\n",
       "       [ 36,  85],\n",
       "       [ 42,  86],\n",
       "       [ 33,  86],\n",
       "       [ 36,  87],\n",
       "       [ 32,  87],\n",
       "       [ 40,  87],\n",
       "       [ 28,  87],\n",
       "       [ 36,  87],\n",
       "       [ 36,  87],\n",
       "       [ 52,  88],\n",
       "       [ 30,  88],\n",
       "       [ 58,  88],\n",
       "       [ 27,  88],\n",
       "       [ 59,  93],\n",
       "       [ 35,  93],\n",
       "       [ 37,  97],\n",
       "       [ 32,  97],\n",
       "       [ 46,  98],\n",
       "       [ 29,  98],\n",
       "       [ 41,  99],\n",
       "       [ 30,  99],\n",
       "       [ 54, 101],\n",
       "       [ 28, 101],\n",
       "       [ 41, 103],\n",
       "       [ 36, 103],\n",
       "       [ 34, 103],\n",
       "       [ 32, 103],\n",
       "       [ 33, 113],\n",
       "       [ 38, 113],\n",
       "       [ 47, 120],\n",
       "       [ 35, 120],\n",
       "       [ 45, 126],\n",
       "       [ 32, 126],\n",
       "       [ 32, 137],\n",
       "       [ 30, 137]], dtype=int64)"
      ]
     },
     "execution_count": 58,
     "metadata": {},
     "output_type": "execute_result"
    }
   ],
   "source": [
    "x=df.iloc[:,[2,3]]\n",
    "x=x.values\n",
    "x"
   ]
  },
  {
   "cell_type": "code",
   "execution_count": 59,
   "id": "e328d876",
   "metadata": {},
   "outputs": [],
   "source": [
    "x1=x[pred==0,0]\n",
    "y1=x[pred==0,1]"
   ]
  },
  {
   "cell_type": "code",
   "execution_count": 60,
   "id": "e5776dd6",
   "metadata": {},
   "outputs": [],
   "source": [
    "x2=x[pred==1,0]\n",
    "y2=x[pred==1,1]"
   ]
  },
  {
   "cell_type": "code",
   "execution_count": 62,
   "id": "10b5d1b7",
   "metadata": {
    "collapsed": true
   },
   "outputs": [
    {
     "data": {
      "image/png": "[encoded data removed]",
      "text/plain": [
       "<Figure size 432x288 with 1 Axes>"
      ]
     },
     "metadata": {
      "needs_background": "light"
     },
     "output_type": "display_data"
    }
   ],
   "source": [
    "plt.scatter(x1,y1,s=60,label=\"cluster 0\")\n",
    "plt.scatter(x2,y2,s=60,label=\"cluster 1\")\n",
    "plt.legend()\n",
    "plt.show()"
   ]
  },
  {
   "cell_type": "code",
   "execution_count": null,
   "id": "45d4275b",
   "metadata": {},
   "outputs": [],
   "source": []
  }
 ],
 "metadata": {
  "kernelspec": {
   "display_name": "Python 3",
   "language": "python",
   "name": "python3"
  },
  "language_info": {
   "codemirror_mode": {
    "name": "ipython",
    "version": 3
   },
   "file_extension": ".py",
   "mimetype": "text/x-python",
   "name": "python",
   "nbconvert_exporter": "python",
   "pygments_lexer": "ipython3",
   "version": "3.8.8"
  }
 },
 "nbformat": 4,
 "nbformat_minor": 5
}
