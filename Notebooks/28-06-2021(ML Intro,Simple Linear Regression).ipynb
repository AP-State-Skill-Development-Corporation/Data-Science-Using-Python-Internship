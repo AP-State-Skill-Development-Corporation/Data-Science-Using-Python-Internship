{
 "cells": [
  {
   "cell_type": "markdown",
   "id": "2f211550",
   "metadata": {},
   "source": [
    "Machine Learning\n",
    "- Arthur Samuel---1959(Field of study that gives the computers the ability to learn without being explicitly programmed)\n",
    "-3 types of Learning\n",
    "    - Supervised\n",
    "        - Regression---predict the continuous valued output---price of the house\n",
    "        - Classification---predict the discrete valued output---breast cancer(malignant,benign)\n",
    "    - Unsupervised\n",
    "         - Clustering\n",
    "         -Dimensionality Reduction\n",
    "    - Reinforcement Learning"
   ]
  },
  {
   "cell_type": "markdown",
   "id": "0e38c6b1",
   "metadata": {},
   "source": [
    "***Regression***\n",
    "- relationship b/w independent variable and dependant variable\n",
    "-Applications\n",
    "    - Management\n",
    "    - Engineering\n",
    "    - Biological Sciences\n",
    "1. Simple Linear Regression\n",
    "- Simple-one dependant variable and one independent varaible\n",
    "- Linear---relationship is approximately using some straight line\n"
   ]
  },
  {
   "cell_type": "markdown",
   "id": "5f12a508",
   "metadata": {},
   "source": [
    "***Import the data***"
   ]
  },
  {
   "cell_type": "code",
   "execution_count": 3,
   "id": "8af64e00",
   "metadata": {},
   "outputs": [],
   "source": [
    "import pandas as pd\n",
    "df=pd.read_csv(\"salary.csv\")"
   ]
  },
  {
   "cell_type": "code",
   "execution_count": null,
   "id": "039412d6",
   "metadata": {},
   "outputs": [],
   "source": []
  }
 ],
 "metadata": {
  "kernelspec": {
   "display_name": "Python 3",
   "language": "python",
   "name": "python3"
  },
  "language_info": {
   "codemirror_mode": {
    "name": "ipython",
    "version": 3
   },
   "file_extension": ".py",
   "mimetype": "text/x-python",
   "name": "python",
   "nbconvert_exporter": "python",
   "pygments_lexer": "ipython3",
   "version": "3.8.8"
  }
 },
 "nbformat": 4,
 "nbformat_minor": 5
}
